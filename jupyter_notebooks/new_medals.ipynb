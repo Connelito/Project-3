{
 "cells": [
  {
   "cell_type": "code",
   "execution_count": 1,
   "id": "e7ad851b",
   "metadata": {},
   "outputs": [],
   "source": [
    "import pandas as pd\n",
    "import os"
   ]
  },
  {
   "cell_type": "code",
   "execution_count": 2,
   "id": "1a2d99e4",
   "metadata": {},
   "outputs": [],
   "source": [
    "clean_medals_df = pd.read_csv('clean_data/clean_medals.csv')"
   ]
  },
  {
   "cell_type": "code",
   "execution_count": 3,
   "id": "8fd83762",
   "metadata": {
    "scrolled": true
   },
   "outputs": [
    {
     "data": {
      "text/html": [
       "<div>\n",
       "<style scoped>\n",
       "    .dataframe tbody tr th:only-of-type {\n",
       "        vertical-align: middle;\n",
       "    }\n",
       "\n",
       "    .dataframe tbody tr th {\n",
       "        vertical-align: top;\n",
       "    }\n",
       "\n",
       "    .dataframe thead th {\n",
       "        text-align: right;\n",
       "    }\n",
       "</style>\n",
       "<table border=\"1\" class=\"dataframe\">\n",
       "  <thead>\n",
       "    <tr style=\"text-align: right;\">\n",
       "      <th></th>\n",
       "      <th>name</th>\n",
       "      <th>gender</th>\n",
       "      <th>medal_type</th>\n",
       "      <th>country</th>\n",
       "      <th>country_code</th>\n",
       "      <th>event</th>\n",
       "      <th>discipline</th>\n",
       "      <th>url</th>\n",
       "    </tr>\n",
       "  </thead>\n",
       "  <tbody>\n",
       "    <tr>\n",
       "      <th>0</th>\n",
       "      <td>KIM Je Deok</td>\n",
       "      <td>Mixed</td>\n",
       "      <td>Gold</td>\n",
       "      <td>Republic of Korea</td>\n",
       "      <td>KOR</td>\n",
       "      <td>Mixed Team</td>\n",
       "      <td>Archery</td>\n",
       "      <td>../../../en/results/archery/athlete-profile-n1...</td>\n",
       "    </tr>\n",
       "    <tr>\n",
       "      <th>1</th>\n",
       "      <td>AN San</td>\n",
       "      <td>Mixed</td>\n",
       "      <td>Gold</td>\n",
       "      <td>Republic of Korea</td>\n",
       "      <td>KOR</td>\n",
       "      <td>Mixed Team</td>\n",
       "      <td>Archery</td>\n",
       "      <td>../../../en/results/archery/athlete-profile-n1...</td>\n",
       "    </tr>\n",
       "    <tr>\n",
       "      <th>2</th>\n",
       "      <td>SCHLOESSER Gabriela</td>\n",
       "      <td>Mixed</td>\n",
       "      <td>Silver</td>\n",
       "      <td>Netherlands</td>\n",
       "      <td>NED</td>\n",
       "      <td>Mixed Team</td>\n",
       "      <td>Archery</td>\n",
       "      <td>../../../en/results/archery/athlete-profile-n1...</td>\n",
       "    </tr>\n",
       "    <tr>\n",
       "      <th>3</th>\n",
       "      <td>WIJLER Steve</td>\n",
       "      <td>Mixed</td>\n",
       "      <td>Silver</td>\n",
       "      <td>Netherlands</td>\n",
       "      <td>NED</td>\n",
       "      <td>Mixed Team</td>\n",
       "      <td>Archery</td>\n",
       "      <td>../../../en/results/archery/athlete-profile-n1...</td>\n",
       "    </tr>\n",
       "    <tr>\n",
       "      <th>4</th>\n",
       "      <td>ALVAREZ Luis</td>\n",
       "      <td>Mixed</td>\n",
       "      <td>Bronze</td>\n",
       "      <td>Mexico</td>\n",
       "      <td>MEX</td>\n",
       "      <td>Mixed Team</td>\n",
       "      <td>Archery</td>\n",
       "      <td>../../../en/results/archery/athlete-profile-n1...</td>\n",
       "    </tr>\n",
       "  </tbody>\n",
       "</table>\n",
       "</div>"
      ],
      "text/plain": [
       "                  name gender medal_type            country country_code  \\\n",
       "0          KIM Je Deok  Mixed       Gold  Republic of Korea          KOR   \n",
       "1               AN San  Mixed       Gold  Republic of Korea          KOR   \n",
       "2  SCHLOESSER Gabriela  Mixed     Silver        Netherlands          NED   \n",
       "3         WIJLER Steve  Mixed     Silver        Netherlands          NED   \n",
       "4         ALVAREZ Luis  Mixed     Bronze             Mexico          MEX   \n",
       "\n",
       "        event discipline                                                url  \n",
       "0  Mixed Team    Archery  ../../../en/results/archery/athlete-profile-n1...  \n",
       "1  Mixed Team    Archery  ../../../en/results/archery/athlete-profile-n1...  \n",
       "2  Mixed Team    Archery  ../../../en/results/archery/athlete-profile-n1...  \n",
       "3  Mixed Team    Archery  ../../../en/results/archery/athlete-profile-n1...  \n",
       "4  Mixed Team    Archery  ../../../en/results/archery/athlete-profile-n1...  "
      ]
     },
     "execution_count": 3,
     "metadata": {},
     "output_type": "execute_result"
    }
   ],
   "source": [
    "clean_medals_df.head()"
   ]
  },
  {
   "cell_type": "code",
   "execution_count": 4,
   "id": "d44c7847",
   "metadata": {},
   "outputs": [
    {
     "name": "stdout",
     "output_type": "stream",
     "text": [
      "2401\n"
     ]
    }
   ],
   "source": [
    "print(len(clean_medals_df))"
   ]
  },
  {
   "cell_type": "code",
   "execution_count": 5,
   "id": "dfffa911",
   "metadata": {},
   "outputs": [],
   "source": [
    "new_medals_df = clean_medals_df[[\"medal_type\",\n",
    "                                 \"country\",\n",
    "                                 \"country_code\",\n",
    "                                 \"event\",\n",
    "                                 \"discipline\"]]"
   ]
  },
  {
   "cell_type": "code",
   "execution_count": 6,
   "id": "20d3508f",
   "metadata": {},
   "outputs": [
    {
     "data": {
      "text/html": [
       "<div>\n",
       "<style scoped>\n",
       "    .dataframe tbody tr th:only-of-type {\n",
       "        vertical-align: middle;\n",
       "    }\n",
       "\n",
       "    .dataframe tbody tr th {\n",
       "        vertical-align: top;\n",
       "    }\n",
       "\n",
       "    .dataframe thead th {\n",
       "        text-align: right;\n",
       "    }\n",
       "</style>\n",
       "<table border=\"1\" class=\"dataframe\">\n",
       "  <thead>\n",
       "    <tr style=\"text-align: right;\">\n",
       "      <th></th>\n",
       "      <th>medal_type</th>\n",
       "      <th>country</th>\n",
       "      <th>country_code</th>\n",
       "      <th>event</th>\n",
       "      <th>discipline</th>\n",
       "    </tr>\n",
       "  </thead>\n",
       "  <tbody>\n",
       "    <tr>\n",
       "      <th>0</th>\n",
       "      <td>Gold</td>\n",
       "      <td>Republic of Korea</td>\n",
       "      <td>KOR</td>\n",
       "      <td>Mixed Team</td>\n",
       "      <td>Archery</td>\n",
       "    </tr>\n",
       "    <tr>\n",
       "      <th>1</th>\n",
       "      <td>Gold</td>\n",
       "      <td>Republic of Korea</td>\n",
       "      <td>KOR</td>\n",
       "      <td>Mixed Team</td>\n",
       "      <td>Archery</td>\n",
       "    </tr>\n",
       "    <tr>\n",
       "      <th>2</th>\n",
       "      <td>Silver</td>\n",
       "      <td>Netherlands</td>\n",
       "      <td>NED</td>\n",
       "      <td>Mixed Team</td>\n",
       "      <td>Archery</td>\n",
       "    </tr>\n",
       "    <tr>\n",
       "      <th>3</th>\n",
       "      <td>Silver</td>\n",
       "      <td>Netherlands</td>\n",
       "      <td>NED</td>\n",
       "      <td>Mixed Team</td>\n",
       "      <td>Archery</td>\n",
       "    </tr>\n",
       "    <tr>\n",
       "      <th>4</th>\n",
       "      <td>Bronze</td>\n",
       "      <td>Mexico</td>\n",
       "      <td>MEX</td>\n",
       "      <td>Mixed Team</td>\n",
       "      <td>Archery</td>\n",
       "    </tr>\n",
       "  </tbody>\n",
       "</table>\n",
       "</div>"
      ],
      "text/plain": [
       "  medal_type            country country_code       event discipline\n",
       "0       Gold  Republic of Korea          KOR  Mixed Team    Archery\n",
       "1       Gold  Republic of Korea          KOR  Mixed Team    Archery\n",
       "2     Silver        Netherlands          NED  Mixed Team    Archery\n",
       "3     Silver        Netherlands          NED  Mixed Team    Archery\n",
       "4     Bronze             Mexico          MEX  Mixed Team    Archery"
      ]
     },
     "execution_count": 6,
     "metadata": {},
     "output_type": "execute_result"
    }
   ],
   "source": [
    "new_medals_df.head()"
   ]
  },
  {
   "cell_type": "code",
   "execution_count": 7,
   "id": "3c06213f",
   "metadata": {},
   "outputs": [],
   "source": [
    "new_medals_df = new_medals_df.drop_duplicates(subset=None, keep='first', inplace=False)"
   ]
  },
  {
   "cell_type": "code",
   "execution_count": 8,
   "id": "cb5eb7a1",
   "metadata": {},
   "outputs": [
    {
     "data": {
      "text/html": [
       "<div>\n",
       "<style scoped>\n",
       "    .dataframe tbody tr th:only-of-type {\n",
       "        vertical-align: middle;\n",
       "    }\n",
       "\n",
       "    .dataframe tbody tr th {\n",
       "        vertical-align: top;\n",
       "    }\n",
       "\n",
       "    .dataframe thead th {\n",
       "        text-align: right;\n",
       "    }\n",
       "</style>\n",
       "<table border=\"1\" class=\"dataframe\">\n",
       "  <thead>\n",
       "    <tr style=\"text-align: right;\">\n",
       "      <th></th>\n",
       "      <th>medal_type</th>\n",
       "      <th>country</th>\n",
       "      <th>country_code</th>\n",
       "      <th>event</th>\n",
       "      <th>discipline</th>\n",
       "    </tr>\n",
       "  </thead>\n",
       "  <tbody>\n",
       "    <tr>\n",
       "      <th>0</th>\n",
       "      <td>Gold</td>\n",
       "      <td>Republic of Korea</td>\n",
       "      <td>KOR</td>\n",
       "      <td>Mixed Team</td>\n",
       "      <td>Archery</td>\n",
       "    </tr>\n",
       "    <tr>\n",
       "      <th>2</th>\n",
       "      <td>Silver</td>\n",
       "      <td>Netherlands</td>\n",
       "      <td>NED</td>\n",
       "      <td>Mixed Team</td>\n",
       "      <td>Archery</td>\n",
       "    </tr>\n",
       "    <tr>\n",
       "      <th>4</th>\n",
       "      <td>Bronze</td>\n",
       "      <td>Mexico</td>\n",
       "      <td>MEX</td>\n",
       "      <td>Mixed Team</td>\n",
       "      <td>Archery</td>\n",
       "    </tr>\n",
       "    <tr>\n",
       "      <th>6</th>\n",
       "      <td>Gold</td>\n",
       "      <td>Ecuador</td>\n",
       "      <td>ECU</td>\n",
       "      <td>Men's Road Race</td>\n",
       "      <td>Cycling Road</td>\n",
       "    </tr>\n",
       "    <tr>\n",
       "      <th>7</th>\n",
       "      <td>Silver</td>\n",
       "      <td>Belgium</td>\n",
       "      <td>BEL</td>\n",
       "      <td>Men's Road Race</td>\n",
       "      <td>Cycling Road</td>\n",
       "    </tr>\n",
       "  </tbody>\n",
       "</table>\n",
       "</div>"
      ],
      "text/plain": [
       "  medal_type            country country_code            event    discipline\n",
       "0       Gold  Republic of Korea          KOR       Mixed Team       Archery\n",
       "2     Silver        Netherlands          NED       Mixed Team       Archery\n",
       "4     Bronze             Mexico          MEX       Mixed Team       Archery\n",
       "6       Gold            Ecuador          ECU  Men's Road Race  Cycling Road\n",
       "7     Silver            Belgium          BEL  Men's Road Race  Cycling Road"
      ]
     },
     "execution_count": 8,
     "metadata": {},
     "output_type": "execute_result"
    }
   ],
   "source": [
    "new_medals_df.head()"
   ]
  },
  {
   "cell_type": "code",
   "execution_count": 9,
   "metadata": {},
   "outputs": [],
   "source": [
    "new_medals_df.reset_index(drop=True, inplace=True)"
   ]
  },
  {
   "cell_type": "code",
   "execution_count": 15,
   "metadata": {},
   "outputs": [
    {
     "data": {
      "text/html": [
       "<div>\n",
       "<style scoped>\n",
       "    .dataframe tbody tr th:only-of-type {\n",
       "        vertical-align: middle;\n",
       "    }\n",
       "\n",
       "    .dataframe tbody tr th {\n",
       "        vertical-align: top;\n",
       "    }\n",
       "\n",
       "    .dataframe thead th {\n",
       "        text-align: right;\n",
       "    }\n",
       "</style>\n",
       "<table border=\"1\" class=\"dataframe\">\n",
       "  <thead>\n",
       "    <tr style=\"text-align: right;\">\n",
       "      <th></th>\n",
       "      <th>medal_type</th>\n",
       "      <th>country</th>\n",
       "      <th>country_code</th>\n",
       "      <th>event</th>\n",
       "      <th>discipline</th>\n",
       "    </tr>\n",
       "  </thead>\n",
       "  <tbody>\n",
       "    <tr>\n",
       "      <th>0</th>\n",
       "      <td>Gold</td>\n",
       "      <td>Republic of Korea</td>\n",
       "      <td>KOR</td>\n",
       "      <td>Mixed Team</td>\n",
       "      <td>Archery</td>\n",
       "    </tr>\n",
       "    <tr>\n",
       "      <th>1</th>\n",
       "      <td>Silver</td>\n",
       "      <td>Netherlands</td>\n",
       "      <td>NED</td>\n",
       "      <td>Mixed Team</td>\n",
       "      <td>Archery</td>\n",
       "    </tr>\n",
       "    <tr>\n",
       "      <th>2</th>\n",
       "      <td>Bronze</td>\n",
       "      <td>Mexico</td>\n",
       "      <td>MEX</td>\n",
       "      <td>Mixed Team</td>\n",
       "      <td>Archery</td>\n",
       "    </tr>\n",
       "    <tr>\n",
       "      <th>3</th>\n",
       "      <td>Gold</td>\n",
       "      <td>Ecuador</td>\n",
       "      <td>ECU</td>\n",
       "      <td>Men's Road Race</td>\n",
       "      <td>Cycling Road</td>\n",
       "    </tr>\n",
       "    <tr>\n",
       "      <th>4</th>\n",
       "      <td>Silver</td>\n",
       "      <td>Belgium</td>\n",
       "      <td>BEL</td>\n",
       "      <td>Men's Road Race</td>\n",
       "      <td>Cycling Road</td>\n",
       "    </tr>\n",
       "  </tbody>\n",
       "</table>\n",
       "</div>"
      ],
      "text/plain": [
       "  medal_type            country country_code            event    discipline\n",
       "0       Gold  Republic of Korea          KOR       Mixed Team       Archery\n",
       "1     Silver        Netherlands          NED       Mixed Team       Archery\n",
       "2     Bronze             Mexico          MEX       Mixed Team       Archery\n",
       "3       Gold            Ecuador          ECU  Men's Road Race  Cycling Road\n",
       "4     Silver            Belgium          BEL  Men's Road Race  Cycling Road"
      ]
     },
     "execution_count": 15,
     "metadata": {},
     "output_type": "execute_result"
    }
   ],
   "source": [
    "new_medals_df.head()"
   ]
  },
  {
   "cell_type": "code",
   "execution_count": 11,
   "id": "301fad4a",
   "metadata": {},
   "outputs": [
    {
     "name": "stdout",
     "output_type": "stream",
     "text": [
      "1080\n"
     ]
    }
   ],
   "source": [
    "print(len(new_medals_df))"
   ]
  },
  {
   "cell_type": "code",
   "execution_count": 12,
   "id": "b1ae9ea4",
   "metadata": {},
   "outputs": [],
   "source": [
    "new_medals_df.to_csv('clean_data/new_medals.csv',\n",
    "                           encoding='utf-8', index=False, header=True)"
   ]
  },
  {
   "cell_type": "code",
   "execution_count": 13,
   "id": "4863ed04",
   "metadata": {},
   "outputs": [],
   "source": [
    "new_medals_df.to_json(\"clean_data/new_medals.json\", orient = 'index')"
   ]
  }
 ],
 "metadata": {
  "interpreter": {
   "hash": "3bfc736dbc91e1e837f36c900cd7bc8785a46f0d8a1a972c46b9ef484f72139e"
  },
  "kernelspec": {
   "display_name": "Python 3.6.10 64-bit (conda)",
   "name": "python3"
  },
  "language_info": {
   "codemirror_mode": {
    "name": "ipython",
    "version": 3
   },
   "file_extension": ".py",
   "mimetype": "text/x-python",
   "name": "python",
   "nbconvert_exporter": "python",
   "pygments_lexer": "ipython3",
   "version": "3.6.10"
  }
 },
 "nbformat": 4,
 "nbformat_minor": 5
}
